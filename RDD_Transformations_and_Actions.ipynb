{
  "cells": [
    {
      "cell_type": "markdown",
      "metadata": {
        "id": "view-in-github",
        "colab_type": "text"
      },
      "source": [
        "<a href=\"https://colab.research.google.com/github/Anush-Amin/Data-Analysis/blob/main/RDD_Transformations_and_Actions.ipynb\" target=\"_parent\"><img src=\"https://colab.research.google.com/assets/colab-badge.svg\" alt=\"Open In Colab\"/></a>"
      ]
    },
    {
      "cell_type": "markdown",
      "metadata": {
        "id": "9PYrOH03sy-u"
      },
      "source": [
        "# RDD Transformations and Actions\n",
        "\n",
        "In this lecture we will begin to delve deeper into using Spark and Python. Please view the video lecture for a full explanation.\n",
        "\n",
        "## Important Terms\n",
        "\n",
        "Let's quickly go over some important terms:\n",
        "\n",
        "Term                   |Definition\n",
        "----                   |-------\n",
        "RDD                    |Resilient Distributed Dataset\n",
        "Transformation         |Spark operation that produces an RDD\n",
        "Action                 |Spark operation that produces a local object\n",
        "Spark Job              |Sequence of transformations on data with a final action"
      ]
    },
    {
      "cell_type": "markdown",
      "metadata": {
        "id": "Omat9sm3sy-2"
      },
      "source": [
        "## Creating an RDD\n",
        "\n",
        "There are two common ways to create an RDD:\n",
        "\n",
        "Method                      |Result\n",
        "----------                               |-------\n",
        "`sc.parallelize(array)`                  |Create RDD of elements of array (or list)\n",
        "`sc.textFile(path/to/file)`                      |Create RDD of lines from file"
      ]
    },
    {
      "cell_type": "markdown",
      "metadata": {
        "id": "jRKQfJLKsy-4"
      },
      "source": [
        "## RDD Transformations\n",
        "\n",
        "We can use transformations to create a set of instructions we want to preform on the RDD (before we call an action and actually execute them).\n",
        "\n",
        "Transformation Example                          |Result\n",
        "----------                               |-------\n",
        "`filter(lambda x: x % 2 == 0)`           |Discard non-even elements\n",
        "`map(lambda x: x * 2)`                   |Multiply each RDD element by `2`\n",
        "`map(lambda x: x.split())`               |Split each string into words\n",
        "`flatMap(lambda x: x.split())`           |Split each string into words and flatten sequence\n",
        "`sample(withReplacement=True,0.25)`      |Create sample of 25% of elements with replacement\n",
        "`union(rdd)`                             |Append `rdd` to existing RDD\n",
        "`distinct()`                             |Remove duplicates in RDD\n",
        "`sortBy(lambda x: x, ascending=False)`   |Sort elements in descending order"
      ]
    },
    {
      "cell_type": "markdown",
      "metadata": {
        "id": "qJ2VMdi8sy-5"
      },
      "source": [
        "## RDD Actions\n",
        "\n",
        "Once you have your 'recipe' of transformations ready, what you will do next is execute them by calling an action. Here are some common actions:\n",
        "\n",
        "Action                             |Result\n",
        "----------                             |-------\n",
        "`collect()`                            |Convert RDD to in-memory list \n",
        "`take(3)`                              |First 3 elements of RDD \n",
        "`top(3)`                               |Top 3 elements of RDD\n",
        "`takeSample(withReplacement=True,3)`   |Create sample of 3 elements with replacement\n",
        "`sum()`                                |Find element sum (assumes numeric elements)\n",
        "`mean()`                               |Find element mean (assumes numeric elements)\n",
        "`stdev()`                              |Find element deviation (assumes numeric elements)"
      ]
    },
    {
      "cell_type": "markdown",
      "metadata": {
        "id": "H4u69kcqsy_A"
      },
      "source": [
        "____\n",
        "# Examples\n",
        "\n",
        "Now the best way to show all of this is by going through examples! We'll first review a bit by creating and working with a simple text file, then we will move on to more realistic data, such as customers and sales data.\n",
        "\n",
        "### Creating an RDD from a text file:\n",
        "\n",
        "** Creating the textfile **"
      ]
    },
    {
      "cell_type": "code",
      "source": [
        "pip install pyspark"
      ],
      "metadata": {
        "colab": {
          "base_uri": "https://localhost:8080/"
        },
        "id": "7k--fJRFwxkB",
        "outputId": "839aa394-aaac-4d8c-cb17-56f7467f1114"
      },
      "execution_count": 1,
      "outputs": [
        {
          "output_type": "stream",
          "name": "stdout",
          "text": [
            "Looking in indexes: https://pypi.org/simple, https://us-python.pkg.dev/colab-wheels/public/simple/\n",
            "Collecting pyspark\n",
            "  Downloading pyspark-3.3.2.tar.gz (281.4 MB)\n",
            "\u001b[2K     \u001b[90m━━━━━━━━━━━━━━━━━━━━━━━━━━━━━━━━━━━━━━━\u001b[0m \u001b[32m281.4/281.4 MB\u001b[0m \u001b[31m4.0 MB/s\u001b[0m eta \u001b[36m0:00:00\u001b[0m\n",
            "\u001b[?25h  Preparing metadata (setup.py) ... \u001b[?25l\u001b[?25hdone\n",
            "Collecting py4j==0.10.9.5\n",
            "  Downloading py4j-0.10.9.5-py2.py3-none-any.whl (199 kB)\n",
            "\u001b[2K     \u001b[90m━━━━━━━━━━━━━━━━━━━━━━━━━━━━━━━━━━━━━━\u001b[0m \u001b[32m199.7/199.7 KB\u001b[0m \u001b[31m10.2 MB/s\u001b[0m eta \u001b[36m0:00:00\u001b[0m\n",
            "\u001b[?25hBuilding wheels for collected packages: pyspark\n",
            "  Building wheel for pyspark (setup.py) ... \u001b[?25l\u001b[?25hdone\n",
            "  Created wheel for pyspark: filename=pyspark-3.3.2-py2.py3-none-any.whl size=281824025 sha256=ee243b3453e27c8f3f0f04a123a76afdf41409c905587924a2c1f1d9171ab34d\n",
            "  Stored in directory: /root/.cache/pip/wheels/b1/59/a0/a1a0624b5e865fd389919c1a10f53aec9b12195d6747710baf\n",
            "Successfully built pyspark\n",
            "Installing collected packages: py4j, pyspark\n",
            "Successfully installed py4j-0.10.9.5 pyspark-3.3.2\n"
          ]
        }
      ]
    },
    {
      "cell_type": "code",
      "execution_count": 2,
      "metadata": {
        "colab": {
          "base_uri": "https://localhost:8080/"
        },
        "id": "nQSCh5qTsy_D",
        "outputId": "806a625a-e772-498c-b23c-247491353812"
      },
      "outputs": [
        {
          "output_type": "stream",
          "name": "stdout",
          "text": [
            "Writing example2.txt\n"
          ]
        }
      ],
      "source": [
        "%%writefile example2.txt\n",
        "first \n",
        "second line\n",
        "the third line\n",
        "then a fourth line"
      ]
    },
    {
      "cell_type": "markdown",
      "metadata": {
        "id": "sFU_us6rsy_H"
      },
      "source": [
        "Now let's perform some transformations and actions on this text file:"
      ]
    },
    {
      "cell_type": "code",
      "execution_count": 3,
      "metadata": {
        "collapsed": true,
        "id": "ScKsxvDgsy_I"
      },
      "outputs": [],
      "source": [
        "from pyspark import SparkContext"
      ]
    },
    {
      "cell_type": "code",
      "execution_count": 4,
      "metadata": {
        "collapsed": true,
        "id": "EprzeLIHsy_J"
      },
      "outputs": [],
      "source": [
        "sc = SparkContext()"
      ]
    },
    {
      "cell_type": "code",
      "execution_count": 5,
      "metadata": {
        "colab": {
          "base_uri": "https://localhost:8080/"
        },
        "id": "6UdSaVOnsy_K",
        "outputId": "c52ed221-899a-4033-c749-c6d5d4966c82"
      },
      "outputs": [
        {
          "output_type": "execute_result",
          "data": {
            "text/plain": [
              "example2.txt MapPartitionsRDD[1] at textFile at NativeMethodAccessorImpl.java:0"
            ]
          },
          "metadata": {},
          "execution_count": 5
        }
      ],
      "source": [
        "# Show RDD\n",
        "sc.textFile('example2.txt')"
      ]
    },
    {
      "cell_type": "code",
      "execution_count": 6,
      "metadata": {
        "collapsed": true,
        "id": "WZw2f_L4sy_O"
      },
      "outputs": [],
      "source": [
        "# Save a reference to this RDD\n",
        "text_rdd = sc.textFile('example2.txt')"
      ]
    },
    {
      "cell_type": "code",
      "execution_count": 7,
      "metadata": {
        "colab": {
          "base_uri": "https://localhost:8080/"
        },
        "id": "PY7m8YI5sy_P",
        "outputId": "2367087e-930e-485c-f685-facf5393106c"
      },
      "outputs": [
        {
          "output_type": "execute_result",
          "data": {
            "text/plain": [
              "[['first'],\n",
              " ['second', 'line'],\n",
              " ['the', 'third', 'line'],\n",
              " ['then', 'a', 'fourth', 'line']]"
            ]
          },
          "metadata": {},
          "execution_count": 7
        }
      ],
      "source": [
        "# Map a function (or lambda expression) to each line\n",
        "# Then collect the results.\n",
        "text_rdd.map(lambda line: line.split()).collect()"
      ]
    },
    {
      "cell_type": "markdown",
      "metadata": {
        "id": "JfKoXlKNsy_Q"
      },
      "source": [
        "## Map vs flatMap"
      ]
    },
    {
      "cell_type": "code",
      "execution_count": 8,
      "metadata": {
        "colab": {
          "base_uri": "https://localhost:8080/"
        },
        "id": "vprQny1xsy_R",
        "outputId": "f99c2b39-2a60-4651-c384-a55b4f88d450"
      },
      "outputs": [
        {
          "output_type": "execute_result",
          "data": {
            "text/plain": [
              "['first',\n",
              " 'second',\n",
              " 'line',\n",
              " 'the',\n",
              " 'third',\n",
              " 'line',\n",
              " 'then',\n",
              " 'a',\n",
              " 'fourth',\n",
              " 'line']"
            ]
          },
          "metadata": {},
          "execution_count": 8
        }
      ],
      "source": [
        "# Collect everything as a single flat map\n",
        "text_rdd.flatMap(lambda line: line.split()).collect()"
      ]
    },
    {
      "cell_type": "markdown",
      "metadata": {
        "id": "j1eLDmmisy_S"
      },
      "source": [
        "# RDDs and Key Value Pairs\n",
        "\n",
        "Now that we've worked with RDDs and how to aggregate values with them, we can begin to look into working with Key Value Pairs. In order to do this, let's create some fake data as a new text file.\n",
        "\n",
        "This data represents some services sold to customers for some SAAS business."
      ]
    },
    {
      "cell_type": "code",
      "execution_count": 9,
      "metadata": {
        "colab": {
          "base_uri": "https://localhost:8080/"
        },
        "id": "xTX-8GW7sy_S",
        "outputId": "7b1c2e17-580d-46bb-fad9-0f39f4b310d9"
      },
      "outputs": [
        {
          "output_type": "stream",
          "name": "stdout",
          "text": [
            "Writing services.txt\n"
          ]
        }
      ],
      "source": [
        "%%writefile services.txt\n",
        "#EventId    Timestamp    Customer   State    ServiceID    Amount\n",
        "201       10/13/2017      100       NY       131          100.00\n",
        "204       10/18/2017      700       TX       129          450.00\n",
        "202       10/15/2017      203       CA       121          200.00\n",
        "206       10/19/2017      202       CA       131          500.00\n",
        "203       10/17/2017      101       NY       173          750.00\n",
        "205       10/19/2017      202       TX       121          200.00"
      ]
    },
    {
      "cell_type": "code",
      "execution_count": 10,
      "metadata": {
        "collapsed": true,
        "id": "LBMI-vbfsy_U"
      },
      "outputs": [],
      "source": [
        "services = sc.textFile('services.txt')"
      ]
    },
    {
      "cell_type": "code",
      "execution_count": 11,
      "metadata": {
        "colab": {
          "base_uri": "https://localhost:8080/"
        },
        "id": "nU7JvHjYsy_U",
        "outputId": "fe28bcd7-0668-4cf4-89df-d2fc32aca111"
      },
      "outputs": [
        {
          "output_type": "execute_result",
          "data": {
            "text/plain": [
              "['#EventId    Timestamp    Customer   State    ServiceID    Amount',\n",
              " '201       10/13/2017      100       NY       131          100.00']"
            ]
          },
          "metadata": {},
          "execution_count": 11
        }
      ],
      "source": [
        "services.take(2)"
      ]
    },
    {
      "cell_type": "code",
      "execution_count": 12,
      "metadata": {
        "colab": {
          "base_uri": "https://localhost:8080/"
        },
        "id": "iy40MP_Dsy_V",
        "outputId": "3955ffe7-8316-45bc-8e3d-1db82959ac40"
      },
      "outputs": [
        {
          "output_type": "execute_result",
          "data": {
            "text/plain": [
              "PythonRDD[9] at RDD at PythonRDD.scala:53"
            ]
          },
          "metadata": {},
          "execution_count": 12
        }
      ],
      "source": [
        "services.map(lambda x: x.split())"
      ]
    },
    {
      "cell_type": "code",
      "execution_count": 13,
      "metadata": {
        "colab": {
          "base_uri": "https://localhost:8080/"
        },
        "id": "gl2ahA3_sy_V",
        "outputId": "ec18b85e-1e4c-4b05-cd88-4b11c80b3e30"
      },
      "outputs": [
        {
          "output_type": "execute_result",
          "data": {
            "text/plain": [
              "[['#EventId', 'Timestamp', 'Customer', 'State', 'ServiceID', 'Amount'],\n",
              " ['201', '10/13/2017', '100', 'NY', '131', '100.00'],\n",
              " ['204', '10/18/2017', '700', 'TX', '129', '450.00']]"
            ]
          },
          "metadata": {},
          "execution_count": 13
        }
      ],
      "source": [
        "services.map(lambda x: x.split()).take(3)"
      ]
    },
    {
      "cell_type": "markdown",
      "metadata": {
        "id": "-5W5fktrsy_W"
      },
      "source": [
        "Let's remove that first hash-tag!"
      ]
    },
    {
      "cell_type": "code",
      "execution_count": 14,
      "metadata": {
        "colab": {
          "base_uri": "https://localhost:8080/"
        },
        "id": "BfprRYfdsy_W",
        "outputId": "162de3fc-65fd-49fd-b1bb-ad0985599054"
      },
      "outputs": [
        {
          "output_type": "execute_result",
          "data": {
            "text/plain": [
              "['EventId    Timestamp    Customer   State    ServiceID    Amount',\n",
              " '201       10/13/2017      100       NY       131          100.00',\n",
              " '204       10/18/2017      700       TX       129          450.00',\n",
              " '202       10/15/2017      203       CA       121          200.00',\n",
              " '206       10/19/2017      202       CA       131          500.00',\n",
              " '203       10/17/2017      101       NY       173          750.00',\n",
              " '205       10/19/2017      202       TX       121          200.00']"
            ]
          },
          "metadata": {},
          "execution_count": 14
        }
      ],
      "source": [
        "services.map(lambda x: x[1:] if x[0]=='#' else x).collect()"
      ]
    },
    {
      "cell_type": "code",
      "execution_count": 15,
      "metadata": {
        "colab": {
          "base_uri": "https://localhost:8080/"
        },
        "id": "0hMq-gtlsy_X",
        "outputId": "a4af3f75-8b70-4345-8343-f7a49e828cdb"
      },
      "outputs": [
        {
          "output_type": "execute_result",
          "data": {
            "text/plain": [
              "[['EventId', 'Timestamp', 'Customer', 'State', 'ServiceID', 'Amount'],\n",
              " ['201', '10/13/2017', '100', 'NY', '131', '100.00'],\n",
              " ['204', '10/18/2017', '700', 'TX', '129', '450.00'],\n",
              " ['202', '10/15/2017', '203', 'CA', '121', '200.00'],\n",
              " ['206', '10/19/2017', '202', 'CA', '131', '500.00'],\n",
              " ['203', '10/17/2017', '101', 'NY', '173', '750.00'],\n",
              " ['205', '10/19/2017', '202', 'TX', '121', '200.00']]"
            ]
          },
          "metadata": {},
          "execution_count": 15
        }
      ],
      "source": [
        "services.map(lambda x: x[1:] if x[0]=='#' else x).map(lambda x: x.split()).collect()"
      ]
    },
    {
      "cell_type": "markdown",
      "metadata": {
        "id": "hz5qsmJcsy_Y"
      },
      "source": [
        "## Using Key Value Pairs for Operations\n",
        "\n",
        "Let us now begin to use methods that combine lambda expressions that use a ByKey argument. These ByKey methods will assume that your data is in a Key,Value form. \n",
        "\n",
        "\n",
        "For example let's find out the total sales per state: "
      ]
    },
    {
      "cell_type": "code",
      "execution_count": 16,
      "metadata": {
        "collapsed": true,
        "id": "VDiJoCOosy_Y"
      },
      "outputs": [],
      "source": [
        "# From Previous\n",
        "cleanServ = services.map(lambda x: x[1:] if x[0]=='#' else x).map(lambda x: x.split())"
      ]
    },
    {
      "cell_type": "code",
      "execution_count": 17,
      "metadata": {
        "colab": {
          "base_uri": "https://localhost:8080/"
        },
        "id": "yeYrLoO-sy_Z",
        "outputId": "16a44ba7-fbe2-4e21-94a5-22271e22fcf9"
      },
      "outputs": [
        {
          "output_type": "execute_result",
          "data": {
            "text/plain": [
              "[['EventId', 'Timestamp', 'Customer', 'State', 'ServiceID', 'Amount'],\n",
              " ['201', '10/13/2017', '100', 'NY', '131', '100.00'],\n",
              " ['204', '10/18/2017', '700', 'TX', '129', '450.00'],\n",
              " ['202', '10/15/2017', '203', 'CA', '121', '200.00'],\n",
              " ['206', '10/19/2017', '202', 'CA', '131', '500.00'],\n",
              " ['203', '10/17/2017', '101', 'NY', '173', '750.00'],\n",
              " ['205', '10/19/2017', '202', 'TX', '121', '200.00']]"
            ]
          },
          "metadata": {},
          "execution_count": 17
        }
      ],
      "source": [
        "cleanServ.collect()"
      ]
    },
    {
      "cell_type": "code",
      "execution_count": 18,
      "metadata": {
        "colab": {
          "base_uri": "https://localhost:8080/"
        },
        "id": "TCOJ2KnTsy_Z",
        "outputId": "ef6f3c5f-cece-4de1-f2dd-29d9df5e8ec3"
      },
      "outputs": [
        {
          "output_type": "execute_result",
          "data": {
            "text/plain": [
              "[('State', 'Amount'),\n",
              " ('NY', '100.00'),\n",
              " ('TX', '450.00'),\n",
              " ('CA', '200.00'),\n",
              " ('CA', '500.00'),\n",
              " ('NY', '750.00'),\n",
              " ('TX', '200.00')]"
            ]
          },
          "metadata": {},
          "execution_count": 18
        }
      ],
      "source": [
        "# Let's start by practicing grabbing fields\n",
        "cleanServ.map(lambda lst: (lst[3],lst[-1])).collect()"
      ]
    },
    {
      "cell_type": "code",
      "execution_count": 19,
      "metadata": {
        "colab": {
          "base_uri": "https://localhost:8080/"
        },
        "id": "AtRtDH5rsy_a",
        "outputId": "77e41c4c-1c7c-47f1-896c-0d22623d2598"
      },
      "outputs": [
        {
          "output_type": "execute_result",
          "data": {
            "text/plain": [
              "[('State', 'Amount'),\n",
              " ('NY', '100.00750.00'),\n",
              " ('TX', '450.00200.00'),\n",
              " ('CA', '200.00500.00')]"
            ]
          },
          "metadata": {},
          "execution_count": 19
        }
      ],
      "source": [
        "# Continue with reduceByKey\n",
        "# Notice how it assumes that the first item is the key!\n",
        "cleanServ.map(lambda lst: (lst[3],lst[-1]))\\\n",
        "         .reduceByKey(lambda amt1,amt2 : amt1+amt2)\\\n",
        "         .collect()"
      ]
    },
    {
      "cell_type": "markdown",
      "metadata": {
        "id": "fA8_S83Vsy_a"
      },
      "source": [
        "Uh oh! Looks like we forgot that the amounts are still strings! Let's fix that:"
      ]
    },
    {
      "cell_type": "code",
      "execution_count": 20,
      "metadata": {
        "colab": {
          "base_uri": "https://localhost:8080/"
        },
        "id": "jZVyvOcesy_a",
        "outputId": "c53789f9-7c3b-4f01-f15e-04fcdc4f4c4a"
      },
      "outputs": [
        {
          "output_type": "execute_result",
          "data": {
            "text/plain": [
              "[('State', 'Amount'), ('NY', 850.0), ('TX', 650.0), ('CA', 700.0)]"
            ]
          },
          "metadata": {},
          "execution_count": 20
        }
      ],
      "source": [
        "# Continue with reduceByKey\n",
        "# Notice how it assumes that the first item is the key!\n",
        "cleanServ.map(lambda lst: (lst[3],lst[-1]))\\\n",
        "         .reduceByKey(lambda amt1,amt2 : float(amt1)+float(amt2))\\\n",
        "         .collect()"
      ]
    },
    {
      "cell_type": "markdown",
      "metadata": {
        "id": "e7UGMOH4sy_b"
      },
      "source": [
        "We can continue our analysis by sorting this output:"
      ]
    },
    {
      "cell_type": "code",
      "execution_count": 21,
      "metadata": {
        "colab": {
          "base_uri": "https://localhost:8080/"
        },
        "id": "LilbKOlQsy_b",
        "outputId": "6896d579-9a90-4660-f72a-33e8bb0088b3"
      },
      "outputs": [
        {
          "output_type": "execute_result",
          "data": {
            "text/plain": [
              "[('NY', 850.0), ('CA', 700.0), ('TX', 650.0)]"
            ]
          },
          "metadata": {},
          "execution_count": 21
        }
      ],
      "source": [
        "# Grab state and amounts\n",
        "# Add them\n",
        "# Get rid of ('State','Amount')\n",
        "# Sort them by the amount value\n",
        "cleanServ.map(lambda lst: (lst[3],lst[-1]))\\\n",
        ".reduceByKey(lambda amt1,amt2 : float(amt1)+float(amt2))\\\n",
        ".filter(lambda x: not x[0]=='State')\\\n",
        ".sortBy(lambda stateAmount: stateAmount[1], ascending=False)\\\n",
        ".collect()"
      ]
    },
    {
      "cell_type": "markdown",
      "metadata": {
        "id": "Sxc20pg8sy_e"
      },
      "source": [
        "** Remember to try to use unpacking for readability. For example: **"
      ]
    },
    {
      "cell_type": "code",
      "execution_count": 22,
      "metadata": {
        "id": "45eMFlQXsy_f"
      },
      "outputs": [],
      "source": [
        "x = ['ID','State','Amount']"
      ]
    },
    {
      "cell_type": "code",
      "execution_count": 23,
      "metadata": {
        "collapsed": true,
        "id": "6MmZb7gXsy_f"
      },
      "outputs": [],
      "source": [
        "def func1(lst):\n",
        "    return lst[-1]"
      ]
    },
    {
      "cell_type": "code",
      "execution_count": 24,
      "metadata": {
        "id": "9h8gNh5Fsy_f"
      },
      "outputs": [],
      "source": [
        "def func2(id_st_amt):\n",
        "    # Unpack Values\n",
        "    (Id,st,amt) = id_st_amt\n",
        "    return amt"
      ]
    },
    {
      "cell_type": "code",
      "execution_count": 25,
      "metadata": {
        "colab": {
          "base_uri": "https://localhost:8080/",
          "height": 36
        },
        "id": "SIGmWy7Dsy_g",
        "outputId": "d41c56e6-48fe-4f65-9681-2f5909cdbf2d"
      },
      "outputs": [
        {
          "output_type": "execute_result",
          "data": {
            "text/plain": [
              "'Amount'"
            ],
            "application/vnd.google.colaboratory.intrinsic+json": {
              "type": "string"
            }
          },
          "metadata": {},
          "execution_count": 25
        }
      ],
      "source": [
        "func1(x)"
      ]
    },
    {
      "cell_type": "code",
      "execution_count": 26,
      "metadata": {
        "colab": {
          "base_uri": "https://localhost:8080/",
          "height": 36
        },
        "id": "C7t3-5Kzsy_g",
        "outputId": "c85c7cb1-20d7-415a-a861-cbee82f45d19"
      },
      "outputs": [
        {
          "output_type": "execute_result",
          "data": {
            "text/plain": [
              "'Amount'"
            ],
            "application/vnd.google.colaboratory.intrinsic+json": {
              "type": "string"
            }
          },
          "metadata": {},
          "execution_count": 26
        }
      ],
      "source": [
        "func2(x)"
      ]
    },
    {
      "cell_type": "markdown",
      "metadata": {
        "id": "CwQ5zP2Psy_h"
      },
      "source": [
        "# Great Job!"
      ]
    },
    {
      "cell_type": "code",
      "source": [],
      "metadata": {
        "id": "ckt8rpOb1YLa"
      },
      "execution_count": null,
      "outputs": []
    }
  ],
  "metadata": {
    "kernelspec": {
      "display_name": "Python 3",
      "language": "python",
      "name": "python3"
    },
    "language_info": {
      "codemirror_mode": {
        "name": "ipython",
        "version": 3
      },
      "file_extension": ".py",
      "mimetype": "text/x-python",
      "name": "python",
      "nbconvert_exporter": "python",
      "pygments_lexer": "ipython3",
      "version": "3.5.1"
    },
    "colab": {
      "provenance": [],
      "include_colab_link": true
    }
  },
  "nbformat": 4,
  "nbformat_minor": 0
}